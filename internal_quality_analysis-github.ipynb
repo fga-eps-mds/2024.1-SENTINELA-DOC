{
 "cells": [
  {
   "cell_type": "markdown",
   "id": "cc56e56572a75249",
   "metadata": {
    "collapsed": false
   },
   "source": [
    "### LIBRARIES"
   ]
  },
  {
   "cell_type": "code",
   "execution_count": 1,
   "id": "a3bcddb987f2383e",
   "metadata": {
    "ExecuteTime": {
     "end_time": "2024-06-12T20:09:03.884001Z",
     "start_time": "2024-06-12T20:09:03.878379Z"
    },
    "collapsed": false
   },
   "outputs": [],
   "source": [
    "# Deal with data\n",
    "import pandas as pd\n",
    "import json\n",
    "from glob import glob\n",
    "\n",
    "# Deal with visualization\n",
    "import matplotlib.pyplot as plt\n",
    "\n",
    "# Deal with time\n",
    "import datetime"
   ]
  },
  {
   "cell_type": "markdown",
   "id": "8b4e0d6b878f9fc2",
   "metadata": {
    "collapsed": false
   },
   "source": [
    "## Github API\n",
    "\n",
    "A API do GitHub utiliza principalmente o protocolo HTTP, onde as operações são realizadas através de URLs e métodos HTTP, como GET, POST, PUT e DELETE. Os dados são geralmente retornados em formato JSON, tornando-o fácil de processar e interpretar."
   ]
  },
  {
   "cell_type": "code",
   "execution_count": 3,
   "id": "bfc238b8cb27fee1",
   "metadata": {
    "collapsed": false
   },
   "outputs": [
    {
     "name": "stdout",
     "output_type": "stream",
     "text": [
      "['./analytics-raw-data/fga-eps-mds-2024.1-SENTINELA_FRONT-8-16-2024-1-58-7-devel.json', './analytics-raw-data/fga-eps-mds-2024.1-SENTINELA_BACKEND_FINANCEIRO-8-26-2024-18-59-41-v1.0.json', './analytics-raw-data/fga-eps-mds-2024.1-SENTINELA_FRONT-7-30-2024-18-1-35-devel.json', './analytics-raw-data/fga-eps-mds-2024.1-SENTINELA_BACKEND_FINANCEIRO-8-26-2024-3-6-41-v1.0.0.json', './analytics-raw-data/fga-eps-mds-2024.1-SENTINELA_BACKEND_FINANCEIRO-8-20-2024-18-13-14-devel.json', './analytics-raw-data/fga-eps-mds-2024.1-SENTINELA_BACKEND_FINANCEIRO-8-2-2024-2-9-53-devel.json', './analytics-raw-data/fga-eps-mds-2024.1-SENTINELA_BACKEND_BENEFICIOS-8-3-2024-14-44-55-main.json', './analytics-raw-data/fga-eps-mds-2024.1-SENTINELA_BACKEND_FINANCEIRO-7-30-2024-19-35-8-devel.json', './analytics-raw-data/fga-eps-mds-2024.1-SENTINELA_BACKEND_FINANCEIRO-8-3-2024-14-42-54-main.json', './analytics-raw-data/fga-eps-mds-2024.1-SENTINELA_BACKEND_USUARIOS-8-17-2024-3-8-36-devel.json', './analytics-raw-data/fga-eps-mds-2024.1-SENTINELA_BACKEND_USUARIOS-8-23-2024-18-37-52-main.json', './analytics-raw-data/fga-eps-mds-2024.1-SENTINELA_FRONT-8-14-2024-14-58-59-devel.json', './analytics-raw-data/fga-eps-mds-2024.1-SENTINELA_BACKEND_USUARIOS-7-31-2024-1-58-41-devel.json', './analytics-raw-data/fga-eps-mds-2024.1-SENTINELA_FRONT-8-26-2024-19-16-18-devel.json', './analytics-raw-data/fga-eps-mds-2024.1-SENTINELA_FRONT-8-20-2024-1-8-40-devel.json', './analytics-raw-data/fga-eps-mds-2024.1-SENTINELA_BACKEND_FINANCEIRO-8-26-2024-18-56-38-main.json', './analytics-raw-data/fga-eps-mds-2024.1-SENTINELA_FRONT-7-31-2024-1-47-18-devel.json', './analytics-raw-data/fga-eps-mds-2024.1-SENTINELA_FRONT-8-14-2024-9-17-26-devel.json', './analytics-raw-data/fga-eps-mds-2024.1-SENTINELA_FRONT-7-30-2024-22-10-13-devel.json', './analytics-raw-data/fga-eps-mds-2024.1-SENTINELA_FRONT-8-3-2024-14-27-40-main.json', './analytics-raw-data/fga-eps-mds-2024.1-SENTINELA_BACKEND_USUARIOS-8-14-2024-9-21-30-devel.json', './analytics-raw-data/fga-eps-mds-2024.1-SENTINELA_BACKEND_BENEFICIOS-7-31-2024-1-56-59-devel.json', './analytics-raw-data/fga-eps-mds-2024.1-SENTINELA_FRONT-8-21-2024-17-41-37-devel.json', './analytics-raw-data/fga-eps-mds-2024.1-SENTINELA_BACKEND_USUARIOS-7-30-2024-18-55-55-devel.json', './analytics-raw-data/fga-eps-mds-2024.1-SENTINELA_BACKEND_FINANCEIRO-7-31-2024-1-52-5-devel.json', './analytics-raw-data/fga-eps-mds-2024.1-SENTINELA_FRONT-8-9-2024-22-12-55-devel.json', './analytics-raw-data/fga-eps-mds-2024.1-SENTINELA_BACKEND_FINANCEIRO-8-19-2024-20-22-47-devel.json', './analytics-raw-data/fga-eps-mds-2024.1-SENTINELA_BACKEND_FINANCEIRO-8-2-2024-2-4-49-devel.json', './analytics-raw-data/fga-eps-mds-2024.1-SENTINELA_BACKEND_BENEFICIOS-8-13-2024-19-31-35-devel.json', './analytics-raw-data/fga-eps-mds-2024.1-SENTINELA_FRONT-8-14-2024-2-13-19-devel.json', './analytics-raw-data/fga-eps-mds-2024.1-SENTINELA_BACKEND_USUARIOS-7-30-2024-18-6-11-devel.json', './analytics-raw-data/fga-eps-mds-2024.1-SENTINELA_BACKEND_USUARIOS-8-14-2024-14-59-22-devel.json', './analytics-raw-data/fga-eps-mds-2024.1-SENTINELA_BACKEND_BENEFICIOS-8-23-2024-20-34-20-main.json', './analytics-raw-data/fga-eps-mds-2024.1-SENTINELA_BACKEND_BENEFICIOS-8-9-2024-22-14-16-devel.json', './analytics-raw-data/fga-eps-mds-2024.1-SENTINELA_FRONT-8-26-2024-7-39-5-devel.json', './analytics-raw-data/fga-eps-mds-2024.1-SENTINELA_BACKEND_FINANCEIRO-8-26-2024-0-46-52-devel.json', './analytics-raw-data/fga-eps-mds-2024.1-SENTINELA_BACKEND_USUARIOS-8-23-2024-18-37-58-main.json', './analytics-raw-data/fga-eps-mds-2024.1-SENTINELA_FRONT-8-17-2024-2-55-48-devel.json', './analytics-raw-data/fga-eps-mds-2024.1-SENTINELA_FRONT-7-30-2024-19-12-17-devel.json', './analytics-raw-data/fga-eps-mds-2024.1-SENTINELA_FRONT-8-17-2024-3-4-49-devel.json', './analytics-raw-data/fga-eps-mds-2024.1-SENTINELA_FRONT-8-20-2024-3-11-18-devel.json', './analytics-raw-data/fga-eps-mds-2024.1-SENTINELA_BACKEND_USUARIOS-8-22-2024-15-12-55-main.json', './analytics-raw-data/fga-eps-mds-2024.1-SENTINELA_BACKEND_FINANCEIRO-8-26-2024-18-56-41-main.json', './analytics-raw-data/fga-eps-mds-2024.1-SENTINELA_BACKEND_BENEFICIOS-8-23-2024-21-23-22-main.json', './analytics-raw-data/fga-eps-mds-2024.1-SENTINELA_BACKEND_USUARIOS-8-3-2024-14-34-22-main.json', './analytics-raw-data/fga-eps-mds-2024.1-SENTINELA_FRONT-7-30-2024-21-23-19-devel.json', './analytics-raw-data/fga-eps-mds-2024.1-SENTINELA_BACKEND_USUARIOS-8-26-2024-1-9-49-v.3.0.0.json', './analytics-raw-data/fga-eps-mds-2024.1-SENTINELA_BACKEND_BENEFICIOS-7-30-2024-19-29-59-devel.json', './analytics-raw-data/fga-eps-mds-2024.1-SENTINELA_BACKEND_FINANCEIRO-8-2-2024-2-12-25-devel.json', './analytics-raw-data/fga-eps-mds-2024.1-SENTINELA_BACKEND_BENEFICIOS-8-16-2024-2-19-30-devel.json', './analytics-raw-data/fga-eps-mds-2024.1-SENTINELA_FRONT-8-11-2024-3-39-5-devel.json', './analytics-raw-data/fga-eps-mds-2024.1-SENTINELA_BACKEND_FINANCEIRO-8-14-2024-7-6-34-devel.json', './analytics-raw-data/fga-eps-mds-2024.1-SENTINELA_BACKEND_BENEFICIOS-8-23-2024-21-23-20-main.json']\n"
     ]
    }
   ],
   "source": [
    "data = glob('./analytics-raw-data/fga-eps-mds-2024.1-*.json')\n",
    "print(data)"
   ]
  },
  {
   "cell_type": "markdown",
   "id": "ffa8cabeda8ab48c",
   "metadata": {
    "collapsed": false
   },
   "source": [
    "#### Unmarshall json"
   ]
  },
  {
   "cell_type": "code",
   "execution_count": 4,
   "id": "26a5d6d115efe1a6",
   "metadata": {
    "collapsed": false
   },
   "outputs": [],
   "source": [
    "def unmarshall(json_path: str) -> dict:\n",
    "    with open(json_path) as json_file:\n",
    "        json_obj = json.load(json_file)\n",
    "    return json_obj"
   ]
  },
  {
   "cell_type": "markdown",
   "id": "7d100c7f5283260c",
   "metadata": {
    "collapsed": false
   },
   "source": [
    "### Cálculo dos dados\n",
    "\n",
    "- Carrega dados dos arquivo JSON e armazena-os na variável data.\n",
    "- Processa os dados do JSON para calcular e obter informações relevantes sobre os tempos de feedback de cada execução de workflow, separando-os em listas de feedback_times, authors_feedback_times, e ci_feedback_times.\n",
    "- Calcula o tempo médio de feedback (ci_feedback_time) considerando todas as execuções de workflow.\n",
    "- Calcula o tempo médio de feedback de cada autor e armazena essas informações em authors_avg_feedback_times.\n",
    "- Processa novamente os dados do JSON para contar o número de execuções bem-sucedidas (success_count) e falhas (failure_count) dos workflows."
   ]
  },
  {
   "cell_type": "code",
   "execution_count": 6,
   "id": "1c0aedb7ec427cd6",
   "metadata": {
    "collapsed": false
   },
   "outputs": [
    {
     "ename": "KeyError",
     "evalue": "'updated_at'",
     "output_type": "error",
     "traceback": [
      "\u001b[0;31m---------------------------------------------------------------------------\u001b[0m",
      "\u001b[0;31mKeyError\u001b[0m                                  Traceback (most recent call last)",
      "Cell \u001b[0;32mIn[6], line 13\u001b[0m\n\u001b[1;32m     11\u001b[0m \u001b[38;5;66;03m# Processar os dados do JSON e obter as informações relevantes\u001b[39;00m\n\u001b[1;32m     12\u001b[0m \u001b[38;5;28;01mfor\u001b[39;00m run \u001b[38;5;129;01min\u001b[39;00m dados[\u001b[38;5;124m\"\u001b[39m\u001b[38;5;124mcomponents\u001b[39m\u001b[38;5;124m\"\u001b[39m]:\n\u001b[0;32m---> 13\u001b[0m     updated_at \u001b[38;5;241m=\u001b[39m datetime\u001b[38;5;241m.\u001b[39mdatetime\u001b[38;5;241m.\u001b[39mstrptime(\u001b[43mrun\u001b[49m\u001b[43m[\u001b[49m\u001b[38;5;124;43m\"\u001b[39;49m\u001b[38;5;124;43mupdated_at\u001b[39;49m\u001b[38;5;124;43m\"\u001b[39;49m\u001b[43m]\u001b[49m, \u001b[38;5;124m\"\u001b[39m\u001b[38;5;124m%\u001b[39m\u001b[38;5;124mY-\u001b[39m\u001b[38;5;124m%\u001b[39m\u001b[38;5;124mm-\u001b[39m\u001b[38;5;132;01m%d\u001b[39;00m\u001b[38;5;124mT\u001b[39m\u001b[38;5;124m%\u001b[39m\u001b[38;5;124mH:\u001b[39m\u001b[38;5;124m%\u001b[39m\u001b[38;5;124mM:\u001b[39m\u001b[38;5;124m%\u001b[39m\u001b[38;5;124mSZ\u001b[39m\u001b[38;5;124m\"\u001b[39m)\n\u001b[1;32m     14\u001b[0m     created_at \u001b[38;5;241m=\u001b[39m datetime\u001b[38;5;241m.\u001b[39mdatetime\u001b[38;5;241m.\u001b[39mstrptime(run[\u001b[38;5;124m\"\u001b[39m\u001b[38;5;124mcreated_at\u001b[39m\u001b[38;5;124m\"\u001b[39m], \u001b[38;5;124m\"\u001b[39m\u001b[38;5;124m%\u001b[39m\u001b[38;5;124mY-\u001b[39m\u001b[38;5;124m%\u001b[39m\u001b[38;5;124mm-\u001b[39m\u001b[38;5;132;01m%d\u001b[39;00m\u001b[38;5;124mT\u001b[39m\u001b[38;5;124m%\u001b[39m\u001b[38;5;124mH:\u001b[39m\u001b[38;5;124m%\u001b[39m\u001b[38;5;124mM:\u001b[39m\u001b[38;5;124m%\u001b[39m\u001b[38;5;124mSZ\u001b[39m\u001b[38;5;124m\"\u001b[39m)\n\u001b[1;32m     15\u001b[0m     feedback_time \u001b[38;5;241m=\u001b[39m (updated_at \u001b[38;5;241m-\u001b[39m created_at)\u001b[38;5;241m.\u001b[39mtotal_seconds()\n",
      "\u001b[0;31mKeyError\u001b[0m: 'updated_at'"
     ]
    }
   ],
   "source": [
    "tabela_total = pd.DataFrame()\n",
    "\n",
    "# Processar os dados do JSON e obter as informações relevantes\n",
    "success_count = 0\n",
    "failure_count = 0\n",
    "\n",
    "for json_path in data:\n",
    "    dados = unmarshall(json_path)\n",
    "    # Create a list to store the data for the table\n",
    "    table_data = []\n",
    "    # Processar os dados do JSON e obter as informações relevantes\n",
    "    for run in dados[\"workflow_runs\"]:\n",
    "        updated_at = datetime.datetime.strptime(run[\"updated_at\"], \"%Y-%m-%dT%H:%M:%SZ\")\n",
    "        created_at = datetime.datetime.strptime(run[\"created_at\"], \"%Y-%m-%dT%H:%M:%SZ\")\n",
    "        feedback_time = (updated_at - created_at).total_seconds()\n",
    "        \n",
    "        # informações relevantes\n",
    "        workflow_id = run[\"id\"]\n",
    "        conclusion = run[\"conclusion\"]\n",
    "        author = run[\"actor\"][\"login\"]\n",
    "        \n",
    "        # Adiciona os dados na tabela\n",
    "        table_data.append({\n",
    "            \"Workflow_run ID\": workflow_id,\n",
    "            \"Conclusion\": conclusion,\n",
    "            \"Author\": author,\n",
    "            \"Created at\": created_at,\n",
    "            \"Updated at\": updated_at,\n",
    "            \"Feedback Time\": feedback_time\n",
    "        })\n",
    "        \n",
    "        \n",
    "    # Cria um dataframe com o pandas\n",
    "    df = pd.DataFrame(table_data)\n",
    "\n",
    "    \n",
    "    # table_data_global.append(df)\n",
    "    \n",
    "    # Processar os dados do JSON e obter as informações relevantes\n",
    "    feedback_times = []\n",
    "    authors_feedback_times = {}\n",
    "    ci_feedback_times = []\n",
    "\n",
    "    for run in df.index:\n",
    "        updated_at = df[\"Updated at\"][run]\n",
    "        created_at = df[\"Created at\"][run]\n",
    "        feedback_time = (updated_at - created_at).total_seconds()\n",
    "        feedback_times.append(feedback_time)\n",
    "        \n",
    "    # Calcular o CI FeedBack Time\n",
    "    ci_feedback_time = sum(feedback_times) / len(feedback_times)\n",
    "    df[\"Ci Feedback Time\"] = ci_feedback_time\n",
    "    \n",
    "    # Tabela com todas as linhas\n",
    "    tabela_total = pd.concat([tabela_total, df])\n",
    "    # print('Tabela por dia')\n",
    "    # display(df)\n",
    "\n",
    "    for run in dados[\"workflow_runs\"]:\n",
    "        conclusion = run[\"conclusion\"]\n",
    "        if conclusion == \"success\":\n",
    "            success_count += 1\n",
    "        elif conclusion == \"failure\":\n",
    "            failure_count += 1\n",
    "                \n",
    "print('Tabela com todas as linhas')\n",
    "display(tabela_total)\n",
    "\n"
   ]
  },
  {
   "cell_type": "markdown",
   "id": "caf5e0b5aa86287a",
   "metadata": {
    "collapsed": false
   },
   "source": [
    "# Gerar gráficos\n",
    "\n",
    "- Gráfico de linhas: Mostra o \"CI FeedBack Time\" (tempo de feedback do CI) em relação à \"Data de Atualização\" das execuções de workflow.\n",
    "- Gráfico de barras simples: Exibe o \"Tempo Médio de Feedback do CI\", representando o desempenho médio geral do CI.\n",
    "- Gráfico de pizza: Mostra a \"Quantidade de Workflows com Sucesso e Falha\" em relação ao total de workflows executados, indicando a proporção de workflows que tiveram sucesso e falha."
   ]
  },
  {
   "cell_type": "code",
   "execution_count": null,
   "id": "fc0acb669d16ee73",
   "metadata": {
    "collapsed": false
   },
   "outputs": [],
   "source": [
    "# Gerar gráfico com o CI FeedBack Time por data de atualização\n",
    "\n",
    "temp = tabela_total[['Created at', 'Ci Feedback Time']]\n",
    "dates = temp.groupby(['Created at']).mean().reset_index()  # Calcula a média dos valores por data\n",
    "dates['Created at'] = pd.to_datetime(dates['Created at']) \n",
    "print(dates)\n",
    "\n",
    "\n",
    "# dates = [datetime.datetime.strptime(run[\"updated_at\"], \"%Y-%m-%dT%H:%M:%SZ\") for run in data[\"workflow_runs\"]]\n",
    "plt.figure(figsize=(20, 10))\n",
    "plt.plot(range(len(dates)), dates['Ci Feedback Time'], marker='o', color='b', label='Feedback Time')\n",
    "plt.xlabel(\"Created at\")\n",
    "plt.ylabel(\"CI FeedBack Time\")\n",
    "plt.title(\"CI FeedBack Time por Data de Criação\")\n",
    "plt.xticks(range(len(dates)), dates['Created at'].dt.strftime('%Y-%m-%d'), rotation=45)\n",
    "plt.grid(True)\n",
    "plt.legend()\n",
    "plt.tight_layout()  # Ajusta a disposição dos elementos para evitar sobreposições\n",
    "plt.show()"
   ]
  },
  {
   "cell_type": "code",
   "execution_count": null,
   "id": "8f74ecd7e0bcd3bb",
   "metadata": {},
   "outputs": [],
   "source": [
    "plt.figure(figsize=(20, 10))\n",
    "bars =  plt.bar(range(len(dates)), dates['Ci Feedback Time'], color='salmon', label='Feedback Time')\n",
    "plt.xlabel(\"Created at\")\n",
    "plt.ylabel(\"CI FeedBack Time\")\n",
    "plt.title(\"CI FeedBack Time por Data de Criação\")\n",
    "plt.xticks(range(len(dates)), dates['Created at'].dt.strftime('%Y-%m-%d'), rotation=45)  # Exibe as datas formatadas no eixo X\n",
    "plt.legend()\n",
    "# Adiciona as labels em cada barra\n",
    "for bar in bars:\n",
    "    height = bar.get_height()\n",
    "    plt.text(bar.get_x() + bar.get_width() / 2, height, str(height), ha='center', va='bottom')\n",
    "\n",
    "plt.tight_layout()  # Ajusta a disposição dos elementos para evitar sobreposições\n",
    "plt.show()\n",
    "\n",
    "# # Gerar gráfico com o tempo médio do CI\n",
    "# plt.figure(figsize=(20, 10))\n",
    "# plt.bar([\"CI\"], [ci_feedback_time], color='salmon')\n",
    "# plt.xlabel(\"CI\")\n",
    "# plt.ylabel(\"Tempo Médio de Feedback\")\n",
    "# plt.title(\"Tempo Médio de Feedback do CI\")\n",
    "# plt.text(0, ci_feedback_time, f'{round(ci_feedback_time, 2)} segundos', ha='center', va='bottom', fontweight='bold')\n",
    "# plt.tight_layout()\n",
    "# plt.show()"
   ]
  },
  {
   "cell_type": "code",
   "execution_count": null,
   "id": "cebbf6eb1bf5cf89",
   "metadata": {},
   "outputs": [],
   "source": [
    "# Gerar gráfico com a quantidade de workflows com sucesso e falha\n",
    "labels = [\"Success\", \"Failure\"]\n",
    "sizes = [success_count, failure_count]\n",
    "plt.figure(figsize=(20, 10))\n",
    "colors = ['lightgreen', 'crimson']\n",
    "plt.pie(sizes, labels=labels, autopct='%1.1f%%', colors=colors)\n",
    "plt.title(\"Quantidade de Workflows_runs com Sucesso e Falha\")\n",
    "plt.legend(labels, loc='best')\n",
    "plt.tight_layout()\n",
    "plt.show()"
   ]
  }
 ],
 "metadata": {
  "kernelspec": {
   "display_name": "Python 3",
   "language": "python",
   "name": "python3"
  },
  "language_info": {
   "codemirror_mode": {
    "name": "ipython",
    "version": 3
   },
   "file_extension": ".py",
   "mimetype": "text/x-python",
   "name": "python",
   "nbconvert_exporter": "python",
   "pygments_lexer": "ipython3",
   "version": "3.10.12"
  }
 },
 "nbformat": 4,
 "nbformat_minor": 5
}
